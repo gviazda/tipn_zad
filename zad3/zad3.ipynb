{
 "cells": [
  {
   "cell_type": "markdown",
   "metadata": {},
   "source": [
    "## Średnia\n",
    "\n",
    "Moje dzieło będzie pokazywało średnią."
   ]
  },
  {
   "cell_type": "code",
   "execution_count": 7,
   "metadata": {},
   "outputs": [],
   "source": [
    "biol_mech_zach = 4.0\n",
    "filozofia = 5.0\n",
    "jez_ang = 5.0\n",
    "metodologia = 5.0\n",
    "logika = 5.0\n",
    "neuroanatomia = 4.0\n",
    "statystyka = 4.0\n",
    "wpr_do_kom_int = 5.0\n",
    "trening_int = 5.0\n",
    "psychologia = 5.0\n",
    "przeglad = 5.0"
   ]
  },
  {
   "cell_type": "code",
   "execution_count": 11,
   "metadata": {},
   "outputs": [
    {
     "data": {
      "text/plain": [
       "4.7272727272727275"
      ]
     },
     "execution_count": 11,
     "metadata": {},
     "output_type": "execute_result"
    }
   ],
   "source": [
    "suma = biol_mech_zach + filozofia + jez_ang + metodologia + logika + neuroanatomia + statystyka + wpr_do_kom_int + trening_int + psychologia + przeglad\n",
    "suma / 11"
   ]
  },
  {
   "cell_type": "code",
   "execution_count": 17,
   "metadata": {},
   "outputs": [],
   "source": [
    "srednia = suma / 11"
   ]
  },
  {
   "cell_type": "code",
   "execution_count": 18,
   "metadata": {},
   "outputs": [
    {
     "name": "stdout",
     "output_type": "stream",
     "text": [
      "Moja średnia w pierwszym semestrze studiów to 4.7272727272727275\n"
     ]
    }
   ],
   "source": [
    "print(\"Moja średnia w pierwszym semestrze studiów to\", str(srednia))"
   ]
  }
 ],
 "metadata": {
  "kernelspec": {
   "display_name": "Python 3",
   "language": "python",
   "name": "python3"
  },
  "language_info": {
   "codemirror_mode": {
    "name": "ipython",
    "version": 3
   },
   "file_extension": ".py",
   "mimetype": "text/x-python",
   "name": "python",
   "nbconvert_exporter": "python",
   "pygments_lexer": "ipython3",
   "version": "3.7.0"
  }
 },
 "nbformat": 4,
 "nbformat_minor": 2
}
