{
 "cells": [
  {
   "cell_type": "code",
   "execution_count": 2,
   "metadata": {},
   "outputs": [
    {
     "name": "stdin",
     "output_type": "stream",
     "text": [
      "Podaj dowolne zdanie: Lorem ipsum dolor sit amet, consectetur adipiscing elit.\n"
     ]
    },
    {
     "name": "stdout",
     "output_type": "stream",
     "text": [
      "Liczba słów w tym zdaniu: 2\n",
      "Liczba słów w tym zdaniu: 3\n",
      "Liczba słów w tym zdaniu: 4\n",
      "Liczba słów w tym zdaniu: 5\n",
      "Liczba słów w tym zdaniu: 6\n",
      "Liczba słów w tym zdaniu: 7\n",
      "Liczba słów w tym zdaniu: 8\n"
     ]
    }
   ],
   "source": [
    "zdanie = input(\"Podaj dowolne zdanie:\")\n",
    "l = 0\n",
    "lista = [1]\n",
    "\n",
    "for l in zdanie:\n",
    "    if  l == ' ':\n",
    "        lista.append(1)\n",
    "        print(\"Liczba słów w tym zdaniu:\", len(lista))\n"
   ]
  },
  {
   "cell_type": "code",
   "execution_count": null,
   "metadata": {},
   "outputs": [],
   "source": []
  }
 ],
 "metadata": {
  "kernelspec": {
   "display_name": "Python 3",
   "language": "python",
   "name": "python3"
  },
  "language_info": {
   "codemirror_mode": {
    "name": "ipython",
    "version": 3
   },
   "file_extension": ".py",
   "mimetype": "text/x-python",
   "name": "python",
   "nbconvert_exporter": "python",
   "pygments_lexer": "ipython3",
   "version": "3.7.0"
  }
 },
 "nbformat": 4,
 "nbformat_minor": 2
}
