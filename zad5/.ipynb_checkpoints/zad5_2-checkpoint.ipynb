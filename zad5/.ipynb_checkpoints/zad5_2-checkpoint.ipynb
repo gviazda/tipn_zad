{
 "cells": [
  {
   "cell_type": "code",
   "execution_count": 36,
   "metadata": {},
   "outputs": [
    {
     "name": "stdin",
     "output_type": "stream",
     "text": [
      "podaj dowolna liczbe: 8549385\n"
     ]
    },
    {
     "name": "stdout",
     "output_type": "stream",
     "text": [
      "8.0\n",
      "5.0\n",
      "4.0\n",
      "9.0\n",
      "3.0\n",
      "8.0\n",
      "5.0\n",
      "[8.0, 5.0, 4.0, 9.0, 3.0, 8.0, 5.0]\n",
      "Suma cyfr w tej liczbie wynosi: 42.0\n"
     ]
    }
   ],
   "source": [
    "liczba = str(input(\"podaj dowolna liczbe:\"))\n",
    "a = [0, 1, 2, 3, 4, 5, 6, 7, 8, 9]\n",
    "b = []\n",
    "\n",
    "for a in liczba:\n",
    "    liczba = a\n",
    "    liczba = float(liczba)\n",
    "    print(liczba)\n",
    "    b.append(liczba)\n",
    "    \n",
    "print(b)\n",
    "print(\"Suma cyfr w tej liczbie wynosi:\", sum(b))"
   ]
  }
 ],
 "metadata": {
  "kernelspec": {
   "display_name": "Python 3",
   "language": "python",
   "name": "python3"
  },
  "language_info": {
   "codemirror_mode": {
    "name": "ipython",
    "version": 3
   },
   "file_extension": ".py",
   "mimetype": "text/x-python",
   "name": "python",
   "nbconvert_exporter": "python",
   "pygments_lexer": "ipython3",
   "version": "3.7.0"
  }
 },
 "nbformat": 4,
 "nbformat_minor": 2
}
