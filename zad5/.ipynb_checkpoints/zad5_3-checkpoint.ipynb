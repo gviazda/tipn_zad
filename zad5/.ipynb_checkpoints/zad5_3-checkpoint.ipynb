{
 "cells": [
  {
   "cell_type": "code",
   "execution_count": 10,
   "metadata": {},
   "outputs": [
    {
     "name": "stdin",
     "output_type": "stream",
     "text": [
      "Podaj dowolne zdanie: Dzisiaj padał deszcz.\n"
     ]
    },
    {
     "name": "stdout",
     "output_type": "stream",
     "text": [
      "Ilość wyrazów w tym zdaniu to: 3.0\n"
     ]
    }
   ],
   "source": [
    "zdanie = input(\"Podaj dowolne zdanie:\")\n",
    "\n",
    "\n",
    "print (\"Ilość wyrazów w tym zdaniu to:\", float(len(zdanie.split())))\n"
   ]
  }
 ],
 "metadata": {
  "kernelspec": {
   "display_name": "Python 3",
   "language": "python",
   "name": "python3"
  },
  "language_info": {
   "codemirror_mode": {
    "name": "ipython",
    "version": 3
   },
   "file_extension": ".py",
   "mimetype": "text/x-python",
   "name": "python",
   "nbconvert_exporter": "python",
   "pygments_lexer": "ipython3",
   "version": "3.7.0"
  }
 },
 "nbformat": 4,
 "nbformat_minor": 2
}
