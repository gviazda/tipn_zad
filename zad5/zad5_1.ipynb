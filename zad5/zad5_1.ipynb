{
 "cells": [
  {
   "cell_type": "code",
   "execution_count": 10,
   "metadata": {},
   "outputs": [
    {
     "name": "stdin",
     "output_type": "stream",
     "text": [
      "podaj dowolna liczbe: 6\n"
     ]
    },
    {
     "name": "stdout",
     "output_type": "stream",
     "text": [
      "6\n",
      "5\n",
      "4\n",
      "3\n",
      "2\n",
      "1\n",
      "silnia z tej liczby wynosi: 720\n"
     ]
    }
   ],
   "source": [
    "liczba = int(input(\"podaj dowolna liczbe:\"))\n",
    "silnia = 1\n",
    "\n",
    "while liczba > 0:\n",
    "    print(liczba)\n",
    "    silnia = silnia * liczba\n",
    "    liczba = liczba - 1\n",
    "print(\"silnia z tej liczby wynosi:\", silnia)"
   ]
  }
 ],
 "metadata": {
  "kernelspec": {
   "display_name": "Python 3",
   "language": "python",
   "name": "python3"
  },
  "language_info": {
   "codemirror_mode": {
    "name": "ipython",
    "version": 3
   },
   "file_extension": ".py",
   "mimetype": "text/x-python",
   "name": "python",
   "nbconvert_exporter": "python",
   "pygments_lexer": "ipython3",
   "version": "3.7.0"
  }
 },
 "nbformat": 4,
 "nbformat_minor": 2
}
