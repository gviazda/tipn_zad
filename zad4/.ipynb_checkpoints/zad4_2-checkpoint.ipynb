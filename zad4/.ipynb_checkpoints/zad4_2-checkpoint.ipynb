{
 "cells": [
  {
   "cell_type": "code",
   "execution_count": 4,
   "metadata": {},
   "outputs": [],
   "source": [
    "przedmioty = [\"metodologia\", \"logika\", \"neuroanatomia\", \"statystyka\", \"psychologia\", \"przeglad\"]"
   ]
  },
  {
   "cell_type": "code",
   "execution_count": 7,
   "metadata": {},
   "outputs": [
    {
     "name": "stdin",
     "output_type": "stream",
     "text": [
      "podaj ocene z metodologii: 5\n",
      "podaj ocene z logiki: 5\n",
      "podaj ocene z neuroanatomii: 4\n",
      "podaj ocene ze statystyki: 4\n",
      "podaj ocene z psychologii: 5\n",
      "podaj ocene z przegladu: 5\n"
     ]
    },
    {
     "name": "stdout",
     "output_type": "stream",
     "text": [
      "[5.0, 5.0, 4.0, 4.0, 5.0, 5.0]\n"
     ]
    }
   ],
   "source": [
    "oceny = []\n",
    "metodologia = input(\"podaj ocene z metodologii:\")\n",
    "oceny.append(float(metodologia))\n",
    "logika = input(\"podaj ocene z logiki:\")\n",
    "oceny.append(float(logika))\n",
    "neuroanatomia = input(\"podaj ocene z neuroanatomii:\")\n",
    "oceny.append(float(neuroanatomia))\n",
    "statystyka = input(\"podaj ocene ze statystyki:\")\n",
    "oceny.append(float(statystyka))\n",
    "psychologia = input(\"podaj ocene z psychologii:\")\n",
    "oceny.append(float(psychologia))\n",
    "przeglad = input(\"podaj ocene z przegladu:\")\n",
    "oceny.append(float(przeglad))\n",
    "print(oceny)"
   ]
  },
  {
   "cell_type": "code",
   "execution_count": 10,
   "metadata": {},
   "outputs": [
    {
     "name": "stdout",
     "output_type": "stream",
     "text": [
      "4.666666666666667\n"
     ]
    }
   ],
   "source": [
    "srednia = sum(oceny) / len(oceny)\n",
    "print(srednia)"
   ]
  },
  {
   "cell_type": "code",
   "execution_count": 11,
   "metadata": {},
   "outputs": [
    {
     "name": "stdout",
     "output_type": "stream",
     "text": [
      "moja średnia to: 4.666666666666667\n"
     ]
    }
   ],
   "source": [
    "print(\"moja średnia to:\", str(srednia))"
   ]
  },
  {
   "cell_type": "code",
   "execution_count": null,
   "metadata": {},
   "outputs": [],
   "source": []
  }
 ],
 "metadata": {
  "kernelspec": {
   "display_name": "Python 3",
   "language": "python",
   "name": "python3"
  },
  "language_info": {
   "codemirror_mode": {
    "name": "ipython",
    "version": 3
   },
   "file_extension": ".py",
   "mimetype": "text/x-python",
   "name": "python",
   "nbconvert_exporter": "python",
   "pygments_lexer": "ipython3",
   "version": "3.7.0"
  }
 },
 "nbformat": 4,
 "nbformat_minor": 2
}
