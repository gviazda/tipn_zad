{
 "cells": [
  {
   "cell_type": "markdown",
   "metadata": {},
   "source": [
    "# Jakim sosem do pizzy jesteś? \n",
    "## Odpowiadaj w skali od 1 do 5, gdzie: \n",
    "### 1 - zdecydowanie nie; 2 - raczej nie; 3 - nie mam zdania; 4 - raczej tak; 5 - zdecydowanie tak"
   ]
  },
  {
   "cell_type": "code",
   "execution_count": 23,
   "metadata": {},
   "outputs": [
    {
     "name": "stdin",
     "output_type": "stream",
     "text": [
      "Czuję się lubiany/lubiana: 5\n",
      "Czuję się doceniany/doceniana: 5\n",
      "Jestem wystarczająco dobry/dobra: 5\n",
      "Jestem popularny/popularna: 5\n",
      "Jestem skryty/skryta: 5\n"
     ]
    },
    {
     "name": "stdout",
     "output_type": "stream",
     "text": [
      "Jesteś sosem pomidorowym! Całkiem przeciętne (ale wcale nie źle!)\n",
      "Jesteś sosem czosnkowym! Uwielbiany i doceniany przez wszystkich\n"
     ]
    }
   ],
   "source": [
    "odpowiedzi = []\n",
    "\n",
    "pytanie1 = int(input(\"Czuję się lubiany/lubiana:\"))\n",
    "odpowiedzi.append(pytanie1)\n",
    "pytanie2 = int(input(\"Czuję się doceniany/doceniana:\"))\n",
    "odpowiedzi.append(pytanie2)\n",
    "pytanie3 = int(input(\"Jestem wystarczająco dobry/dobra:\"))\n",
    "odpowiedzi.append(pytanie3)\n",
    "pytanie4 = int(input(\"Jestem popularny/popularna:\"))\n",
    "odpowiedzi.append(pytanie4)\n",
    "pytanie5 = int(input(\"Jestem skryty/skryta:\"))\n",
    "odpowiedzi.append(pytanie5)\n",
    "\n",
    "suma = sum(odpowiedzi)\n",
    "suma = int(suma)\n",
    "\n",
    "\n",
    "if suma <= 5:\n",
    "    print(\"Jesteś oliwą! To nawet nie sos, a olej, którego na pizzy potrafią docenić nieliczni! Oliwa wbrew pozorom jest popularnym dod\")\n",
    "if suma >5:\n",
    "    print(\"Jesteś sosem pomidorowym! Całkiem przeciętne (ale wcale nie źle!)\")\n",
    "if suma >15:\n",
    "    print(\"Jesteś sosem czosnkowym! Uwielbiany i doceniany przez wszystkich\")\n",
    "    "
   ]
  }
 ],
 "metadata": {
  "kernelspec": {
   "display_name": "Python 3",
   "language": "python",
   "name": "python3"
  },
  "language_info": {
   "codemirror_mode": {
    "name": "ipython",
    "version": 3
   },
   "file_extension": ".py",
   "mimetype": "text/x-python",
   "name": "python",
   "nbconvert_exporter": "python",
   "pygments_lexer": "ipython3",
   "version": "3.7.0"
  }
 },
 "nbformat": 4,
 "nbformat_minor": 2
}
