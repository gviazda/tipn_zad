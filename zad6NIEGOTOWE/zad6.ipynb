{
 "cells": [
  {
   "cell_type": "markdown",
   "metadata": {},
   "source": [
    "# Jakim sosem do pizzy jesteś? \n",
    "## Odpowiadaj w skali od 1 do 5, gdzie: \n",
    "### 1 - zdecydowanie nie; 2 - raczej nie; 3 - nie mam zdania; 4 - raczej tak; 5 - zdecydowanie tak"
   ]
  },
  {
   "cell_type": "code",
   "execution_count": 25,
   "metadata": {},
   "outputs": [
    {
     "name": "stdin",
     "output_type": "stream",
     "text": [
      "Czuję się lubiany/lubiana: 1\n",
      "Czuję się doceniany/doceniana: 1\n",
      "Jestem wystarczająco dobry/dobra: 1\n",
      "Jestem popularny/popularna: 1\n",
      "Nie jestem skryty/skryta: 1\n"
     ]
    },
    {
     "name": "stdout",
     "output_type": "stream",
     "text": [
      "Jesteś oliwą! To nawet nie sos, a olej, który na pizzy potrafią docenić nieliczni! Oliwa wbrew pozorom jest popularnym dodatkiem w kraju swojego pochodzenia, więc po prostu kto wie, ten wie, jaka fajna jest!\n"
     ]
    }
   ],
   "source": [
    "odpowiedzi = []\n",
    "poprawneodp = [0, 1, 2, 3, 4, 5]\n",
    "\n",
    "pytanie1 = int(input(\"Czuję się lubiany/lubiana:\"))\n",
    "while pytanie1 >5 or pytanie1 <1:\n",
    "    print(\"Błędna odpowiedź, odpowiedz w skali 1-5\")\n",
    "    pytanie1 = int(input(\"Czuję się lubiany/lubiana:\"))\n",
    "if pytanie1 == poprawneodp:\n",
    "    odpowiedzi.append(pytanie1)\n",
    "    \n",
    "pytanie2 = int(input(\"Czuję się doceniany/doceniana:\"))\n",
    "while pytanie2 >5 or pytanie2 <1:\n",
    "    print(\"Błędna odpowiedź, odpowiedz w skali 1-5\")\n",
    "    pytanie2 = int(input(\"Czuję się doceniany/doceniana:\"))\n",
    "if pytanie2 == poprawneodp:\n",
    "    odpowiedzi.append(pytanie2)\n",
    "    \n",
    "pytanie3 = int(input(\"Jestem wystarczająco dobry/dobra:\"))\n",
    "while pytanie3 >5 or pytanie3 <1:\n",
    "    print(\"Błędna odpowiedź, odpowiedz w skali 1-5\")\n",
    "    pytanie3 = int(input(\"Jestem wystarczająco dobry/dobra:\"))\n",
    "if pytanie3 == poprawneodp:\n",
    "    odpowiedzi.append(pytanie3)\n",
    "    \n",
    "pytanie4 = int(input(\"Jestem popularny/popularna:\"))\n",
    "while pytanie4 >5 or pytanie4 <1:\n",
    "    print(\"Błędna odpowiedź, odpowiedz w skali 1-5\")\n",
    "    pytanie4 = int(input(\"Jestem popularny/popularna:\"))\n",
    "if pytanie4 == poprawneodp:\n",
    "    odpowiedzi.append(pytanie4)\n",
    "    \n",
    "pytanie5 = int(input(\"Nie jestem skryty/skryta:\"))\n",
    "while pytanie5 >5 or pytanie5 <1:\n",
    "    print(\"Błędna odpowiedź, odpowiedz w skali 1-5\")\n",
    "    pytanie5 = int(input(\"Nie jestem skryty/skryta:\"))\n",
    "if pytanie5 == poprawneodp:\n",
    "    odpowiedzi.append(pytanie5)\n",
    "\n",
    "suma = sum(odpowiedzi)\n",
    "suma = int(suma)\n",
    "\n",
    "\n",
    "if suma <= 5:\n",
    "    print(\"Jesteś oliwą! To nawet nie sos, a olej, który na pizzy potrafią docenić nieliczni! Oliwa wbrew pozorom jest popularnym dodatkiem w kraju swojego pochodzenia, więc po prostu kto wie, ten wie, jaka fajna jest!\")\n",
    "elif suma > 5 and suma <= 15:\n",
    "    print(\"Jesteś sosem pomidorowym! Mimo przeciętności, jest on nieodłącznym dodatkiem przy zamówieniach i jednoczy potencjalnie niezadowolonych. Jednym słowem: najlepsze optimum.\")\n",
    "elif suma > 15:\n",
    "    print(\"Jesteś sosem czosnkowym! Uwielbiany i doceniany przez wszystkich. Bogactwo smaku dodaje wyjątkowości, jaką jest popularność!\")\n",
    "    "
   ]
  },
  {
   "cell_type": "code",
   "execution_count": null,
   "metadata": {},
   "outputs": [],
   "source": []
  }
 ],
 "metadata": {
  "kernelspec": {
   "display_name": "Python 3",
   "language": "python",
   "name": "python3"
  },
  "language_info": {
   "codemirror_mode": {
    "name": "ipython",
    "version": 3
   },
   "file_extension": ".py",
   "mimetype": "text/x-python",
   "name": "python",
   "nbconvert_exporter": "python",
   "pygments_lexer": "ipython3",
   "version": "3.7.0"
  }
 },
 "nbformat": 4,
 "nbformat_minor": 2
}
