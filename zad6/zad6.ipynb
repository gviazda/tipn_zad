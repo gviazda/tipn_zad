{
 "cells": [
  {
   "cell_type": "markdown",
   "metadata": {},
   "source": [
    "# Którym sosem do pizzy jesteś? \n",
    "## Odpowiadaj w skali od 1 do 5, gdzie: 1 - zdecydowanie nie; 2 - raczej nie; 3 - nie mam zdania; 4 - raczej tak; 5 - zdecydowanie tak"
   ]
  },
  {
   "cell_type": "code",
   "execution_count": 21,
   "metadata": {},
   "outputs": [
    {
     "ename": "SyntaxError",
     "evalue": "invalid syntax (<ipython-input-21-5410d566af7e>, line 20)",
     "output_type": "error",
     "traceback": [
      "\u001b[1;36m  File \u001b[1;32m\"<ipython-input-21-5410d566af7e>\"\u001b[1;36m, line \u001b[1;32m20\u001b[0m\n\u001b[1;33m    if suma >5 and =< 15:\u001b[0m\n\u001b[1;37m                   ^\u001b[0m\n\u001b[1;31mSyntaxError\u001b[0m\u001b[1;31m:\u001b[0m invalid syntax\n"
     ]
    }
   ],
   "source": [
    "odpowiedzi = []\n",
    "\n",
    "pytanie1 = int(input(\"Czuję się lubiany/lubiana:\"))\n",
    "odpowiedzi.append(pytanie1)\n",
    "pytanie2 = int(input(\"Czuję się doceniany/doceniana:\"))\n",
    "odpowiedzi.append(pytanie2)\n",
    "pytanie3 = int(input(\"Jestem wystarczająco dobry/dobra:\"))\n",
    "odpowiedzi.append(pytanie3)\n",
    "pytanie4 = int(input(\"Jestem popularny/popularna:\"))\n",
    "odpowiedzi.append(pytanie4)\n",
    "pytanie5 = int(input(\"Jestem skryty/skryta:\"))\n",
    "odpowiedzi.append(pytanie5)\n",
    "\n",
    "suma = sum(odpowiedzi)\n",
    "suma = int(suma)\n",
    "\n",
    "\n",
    "if suma <= 5:\n",
    "    print(\"Jesteś oliwą! To nawet nie sos, a olej, którego na pizzy potrafią docenić nieliczni! Oliwa wbrew pozorom jest popularnym dod\")\n",
    "if suma >5 and =< 15:\n",
    "    print(\"Jesteś sosem pomidorowym! Całkiem przeciętne (ale wcale nie źle!)\")\n",
    "if suma >15:\n",
    "    print(\"Jesteś sosem czosnkowym! Uwielbiany i doceniany przez wszystkich\")\n",
    "    "
   ]
  },
  {
   "cell_type": "code",
   "execution_count": null,
   "metadata": {},
   "outputs": [],
   "source": []
  }
 ],
 "metadata": {
  "kernelspec": {
   "display_name": "Python 3",
   "language": "python",
   "name": "python3"
  },
  "language_info": {
   "codemirror_mode": {
    "name": "ipython",
    "version": 3
   },
   "file_extension": ".py",
   "mimetype": "text/x-python",
   "name": "python",
   "nbconvert_exporter": "python",
   "pygments_lexer": "ipython3",
   "version": "3.7.0"
  }
 },
 "nbformat": 4,
 "nbformat_minor": 2
}
